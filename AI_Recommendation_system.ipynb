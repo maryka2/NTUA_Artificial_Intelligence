{
  "nbformat": 4,
  "nbformat_minor": 0,
  "metadata": {
    "kernelspec": {
      "display_name": "Python 3",
      "language": "python",
      "name": "python3"
    },
    "language_info": {
      "codemirror_mode": {
        "name": "ipython",
        "version": 3
      },
      "file_extension": ".py",
      "mimetype": "text/x-python",
      "name": "python",
      "nbconvert_exporter": "python",
      "pygments_lexer": "ipython3",
      "version": "3.7.3"
    },
    "pycharm": {
      "stem_cell": {
        "cell_type": "raw",
        "source": [],
        "metadata": {
          "collapsed": false
        }
      }
    },
    "colab": {
      "name": "AI_Recommendation_system.ipynb",
      "provenance": [],
      "collapsed_sections": []
    }
  },
  "cells": [
    {
      "cell_type": "markdown",
      "metadata": {
        "colab_type": "text",
        "id": "816WHA5P3nJT"
      },
      "source": [
        "# Τεχνητή Νοημοσύνη: Εργαστηριακή Άσκηση 2\n",
        "---\n",
        "\n",
        "\n",
        "\n",
        "Ο στόχος της εργασίας είναι η κατασκευή ενός συστήματος προτάσεων (Recommendation System) για ταινίες. Οι προτάσεις αυτές θα πηγάζουν τόσο από τα χαρακτηριστικά της ταινίας όσο και από ορισμένες αξιολογήσεις του κάθε χρήστη.\n",
        "\n",
        "Στα δεδομένα της άσκησης περιλαμβάνονται ένα αρχείο με το όνομα movies_metadata.csv το όποιο περιέχει τα χαρακτηριστικά κάθε ταινίας όπως θέμα, σκηνοθέτης, ηθοποιοί, λέξεις κλειδιά κ.α. από το imdb, τα αρχεία user1.csv και user2.csv τα όποια περιέχουν αξιολογήσεις για 2 διαφορετικούς χρήστες καθώς και το αρχείο relative_movies.csv, που περιέχει 10 όμοιες ταινίες για ορισμένους τυχαία επιλεγμένους τίτλους.\n"
      ]
    },
    {
      "cell_type": "markdown",
      "metadata": {
        "colab_type": "text",
        "id": "21xzXVjQ5tFB"
      },
      "source": [
        "---\n",
        "#Κώδικας για κατασκευή περιβάλλοντος εργασίας\n",
        "\n",
        "Κώδικας για να γίνει Mount to Google Drive"
      ]
    },
    {
      "cell_type": "code",
      "metadata": {
        "colab_type": "code",
        "id": "DfT5Z_wtrhsV",
        "colab": {
          "base_uri": "https://localhost:8080/",
          "height": 122
        },
        "outputId": "dac35114-ba5c-4572-b8a3-d5d30e1e95a9"
      },
      "source": [
        "from google.colab import drive\n",
        "drive.mount('/gdrive')\n",
        "import os\n",
        "os.listdir('/gdrive/My Drive')\n",
        "path='/gdrive/My Drive/'"
      ],
      "execution_count": 1,
      "outputs": [
        {
          "output_type": "stream",
          "text": [
            "Go to this URL in a browser: https://accounts.google.com/o/oauth2/auth?client_id=947318989803-6bn6qk8qdgf4n4g3pfee6491hc0brc4i.apps.googleusercontent.com&redirect_uri=urn%3aietf%3awg%3aoauth%3a2.0%3aoob&response_type=code&scope=email%20https%3a%2f%2fwww.googleapis.com%2fauth%2fdocs.test%20https%3a%2f%2fwww.googleapis.com%2fauth%2fdrive%20https%3a%2f%2fwww.googleapis.com%2fauth%2fdrive.photos.readonly%20https%3a%2f%2fwww.googleapis.com%2fauth%2fpeopleapi.readonly\n",
            "\n",
            "Enter your authorization code:\n",
            "··········\n",
            "Mounted at /gdrive\n"
          ],
          "name": "stdout"
        }
      ]
    },
    {
      "cell_type": "markdown",
      "metadata": {
        "colab_type": "text",
        "id": "Rk-8r3HU6Jyo"
      },
      "source": [
        "Κώδικάς για να εγκατασταθεί το Swi-Prolog και το pyswip.<br>\n",
        "\n",
        "***Αυτά χρειάζονται σε κάθε περιβάλλον λειτουργίας, αν δεν έιναι ήδη  εγκατεστημένα.***"
      ]
    },
    {
      "cell_type": "code",
      "metadata": {
        "colab_type": "code",
        "id": "mHVpa_D65-E2",
        "colab": {
          "base_uri": "https://localhost:8080/",
          "height": 1000
        },
        "outputId": "4000f4b2-bfe2-4f5e-d69a-731092139895"
      },
      "source": [
        "#install swi-prolog\n",
        "!sudo apt-get install software-properties-common\n",
        "!sudo apt-add-repository ppa:swi-prolog/stable\n",
        "!sudo apt-get update\n",
        "!sudo apt-get install swi-prolog"
      ],
      "execution_count": 2,
      "outputs": [
        {
          "output_type": "stream",
          "text": [
            "Reading package lists... Done\n",
            "Building dependency tree       \n",
            "Reading state information... Done\n",
            "software-properties-common is already the newest version (0.96.24.32.11).\n",
            "The following package was automatically installed and is no longer required:\n",
            "  libnvidia-common-430\n",
            "Use 'sudo apt autoremove' to remove it.\n",
            "0 upgraded, 0 newly installed, 0 to remove and 7 not upgraded.\n",
            " Comprehensive Prolog implementation with extensive libraries and development tools.   Primarily targetted at teaching, RDF processing and web-related tasks, such as creating web services or analysing web content.\n",
            " More info: https://launchpad.net/~swi-prolog/+archive/ubuntu/stable\n",
            "Press [ENTER] to continue or Ctrl-c to cancel adding it.\n",
            "\n",
            "Get:1 https://cloud.r-project.org/bin/linux/ubuntu bionic-cran35/ InRelease [3,626 B]\n",
            "Ign:2 https://developer.download.nvidia.com/compute/cuda/repos/ubuntu1804/x86_64  InRelease\n",
            "Hit:3 http://ppa.launchpad.net/graphics-drivers/ppa/ubuntu bionic InRelease\n",
            "Get:4 http://security.ubuntu.com/ubuntu bionic-security InRelease [88.7 kB]\n",
            "Hit:5 http://archive.ubuntu.com/ubuntu bionic InRelease\n",
            "Ign:6 https://developer.download.nvidia.com/compute/machine-learning/repos/ubuntu1804/x86_64  InRelease\n",
            "Hit:7 https://developer.download.nvidia.com/compute/cuda/repos/ubuntu1804/x86_64  Release\n",
            "Get:8 http://archive.ubuntu.com/ubuntu bionic-updates InRelease [88.7 kB]\n",
            "Get:9 https://developer.download.nvidia.com/compute/machine-learning/repos/ubuntu1804/x86_64  Release [564 B]\n",
            "Get:10 https://developer.download.nvidia.com/compute/machine-learning/repos/ubuntu1804/x86_64  Release.gpg [833 B]\n",
            "Get:11 https://cloud.r-project.org/bin/linux/ubuntu bionic-cran35/ Packages [81.6 kB]\n",
            "Get:12 http://ppa.launchpad.net/marutter/c2d4u3.5/ubuntu bionic InRelease [15.4 kB]\n",
            "Get:13 http://ppa.launchpad.net/swi-prolog/stable/ubuntu bionic InRelease [15.4 kB]\n",
            "Get:14 http://archive.ubuntu.com/ubuntu bionic-backports InRelease [74.6 kB]\n",
            "Get:16 https://developer.download.nvidia.com/compute/machine-learning/repos/ubuntu1804/x86_64  Packages [30.4 kB]\n",
            "Get:17 http://ppa.launchpad.net/marutter/c2d4u3.5/ubuntu bionic/main Sources [1,749 kB]\n",
            "Get:18 http://security.ubuntu.com/ubuntu bionic-security/universe amd64 Packages [803 kB]\n",
            "Get:19 http://archive.ubuntu.com/ubuntu bionic-updates/restricted amd64 Packages [35.5 kB]\n",
            "Get:20 http://archive.ubuntu.com/ubuntu bionic-updates/universe amd64 Packages [1,325 kB]\n",
            "Get:21 http://security.ubuntu.com/ubuntu bionic-security/main amd64 Packages [777 kB]\n",
            "Get:22 http://security.ubuntu.com/ubuntu bionic-security/restricted amd64 Packages [21.8 kB]\n",
            "Get:23 http://archive.ubuntu.com/ubuntu bionic-updates/multiverse amd64 Packages [10.8 kB]\n",
            "Get:24 http://archive.ubuntu.com/ubuntu bionic-updates/main amd64 Packages [1,074 kB]\n",
            "Get:25 http://archive.ubuntu.com/ubuntu bionic-backports/universe amd64 Packages [4,241 B]\n",
            "Get:26 http://ppa.launchpad.net/marutter/c2d4u3.5/ubuntu bionic/main amd64 Packages [844 kB]\n",
            "Get:27 http://ppa.launchpad.net/swi-prolog/stable/ubuntu bionic/main amd64 Packages [1,491 B]\n",
            "Fetched 7,047 kB in 3s (2,798 kB/s)\n",
            "Reading package lists... Done\n",
            "Hit:1 https://cloud.r-project.org/bin/linux/ubuntu bionic-cran35/ InRelease\n",
            "Ign:2 https://developer.download.nvidia.com/compute/cuda/repos/ubuntu1804/x86_64  InRelease\n",
            "Hit:3 http://ppa.launchpad.net/graphics-drivers/ppa/ubuntu bionic InRelease\n",
            "Hit:4 http://archive.ubuntu.com/ubuntu bionic InRelease\n",
            "Hit:5 http://security.ubuntu.com/ubuntu bionic-security InRelease\n",
            "Ign:6 https://developer.download.nvidia.com/compute/machine-learning/repos/ubuntu1804/x86_64  InRelease\n",
            "Hit:7 https://developer.download.nvidia.com/compute/cuda/repos/ubuntu1804/x86_64  Release\n",
            "Hit:8 https://developer.download.nvidia.com/compute/machine-learning/repos/ubuntu1804/x86_64  Release\n",
            "Hit:9 http://archive.ubuntu.com/ubuntu bionic-updates InRelease\n",
            "Hit:10 http://ppa.launchpad.net/marutter/c2d4u3.5/ubuntu bionic InRelease\n",
            "Hit:11 http://archive.ubuntu.com/ubuntu bionic-backports InRelease\n",
            "Hit:12 http://ppa.launchpad.net/swi-prolog/stable/ubuntu bionic InRelease\n",
            "Reading package lists... Done\n",
            "Reading package lists... Done\n",
            "Building dependency tree       \n",
            "Reading state information... Done\n",
            "The following package was automatically installed and is no longer required:\n",
            "  libnvidia-common-430\n",
            "Use 'sudo apt autoremove' to remove it.\n",
            "The following additional packages will be installed:\n",
            "  libbsd-dev libedit-dev libgmp-dev libgmpxx4ldbl libncursesw5-dev\n",
            "  libossp-uuid16 swi-prolog-nox swi-prolog-x\n",
            "Suggested packages:\n",
            "  gmp-doc libgmp10-doc libmpfr-dev ncurses-doc uuid swi-prolog-doc prolog-el\n",
            "The following NEW packages will be installed:\n",
            "  libbsd-dev libedit-dev libgmp-dev libgmpxx4ldbl libncursesw5-dev\n",
            "  libossp-uuid16 swi-prolog swi-prolog-nox swi-prolog-x\n",
            "0 upgraded, 9 newly installed, 0 to remove and 24 not upgraded.\n",
            "Need to get 6,664 kB of archives.\n",
            "After this operation, 34.7 MB of additional disk space will be used.\n",
            "Get:1 http://archive.ubuntu.com/ubuntu bionic/main amd64 libbsd-dev amd64 0.8.7-1 [150 kB]\n",
            "Get:2 http://ppa.launchpad.net/swi-prolog/stable/ubuntu bionic/main amd64 swi-prolog-nox amd64 8.0.3-1-gcbd8b3b92-bionicppa2 [3,723 kB]\n",
            "Get:3 http://archive.ubuntu.com/ubuntu bionic/main amd64 libedit-dev amd64 3.1-20170329-1 [99.1 kB]\n",
            "Get:4 http://archive.ubuntu.com/ubuntu bionic/main amd64 libgmpxx4ldbl amd64 2:6.1.2+dfsg-2 [8,964 B]\n",
            "Get:5 http://archive.ubuntu.com/ubuntu bionic/main amd64 libgmp-dev amd64 2:6.1.2+dfsg-2 [316 kB]\n",
            "Get:6 http://archive.ubuntu.com/ubuntu bionic-updates/main amd64 libncursesw5-dev amd64 6.1-1ubuntu1.18.04 [199 kB]\n",
            "Get:7 http://archive.ubuntu.com/ubuntu bionic/universe amd64 libossp-uuid16 amd64 1.6.2-1.5build4 [29.0 kB]\n",
            "Get:8 http://ppa.launchpad.net/swi-prolog/stable/ubuntu bionic/main amd64 swi-prolog-x amd64 8.0.3-1-gcbd8b3b92-bionicppa2 [2,110 kB]\n",
            "Get:9 http://ppa.launchpad.net/swi-prolog/stable/ubuntu bionic/main amd64 swi-prolog amd64 8.0.3-1-gcbd8b3b92-bionicppa2 [27.3 kB]\n",
            "Fetched 6,664 kB in 2s (3,236 kB/s)\n",
            "debconf: unable to initialize frontend: Dialog\n",
            "debconf: (No usable dialog-like program is installed, so the dialog based frontend cannot be used. at /usr/share/perl5/Debconf/FrontEnd/Dialog.pm line 76, <> line 9.)\n",
            "debconf: falling back to frontend: Readline\n",
            "debconf: unable to initialize frontend: Readline\n",
            "debconf: (This frontend requires a controlling tty.)\n",
            "debconf: falling back to frontend: Teletype\n",
            "dpkg-preconfigure: unable to re-open stdin: \n",
            "Selecting previously unselected package libbsd-dev:amd64.\n",
            "(Reading database ... 135004 files and directories currently installed.)\n",
            "Preparing to unpack .../0-libbsd-dev_0.8.7-1_amd64.deb ...\n",
            "Unpacking libbsd-dev:amd64 (0.8.7-1) ...\n",
            "Selecting previously unselected package libedit-dev:amd64.\n",
            "Preparing to unpack .../1-libedit-dev_3.1-20170329-1_amd64.deb ...\n",
            "Unpacking libedit-dev:amd64 (3.1-20170329-1) ...\n",
            "Selecting previously unselected package libgmpxx4ldbl:amd64.\n",
            "Preparing to unpack .../2-libgmpxx4ldbl_2%3a6.1.2+dfsg-2_amd64.deb ...\n",
            "Unpacking libgmpxx4ldbl:amd64 (2:6.1.2+dfsg-2) ...\n",
            "Selecting previously unselected package libgmp-dev:amd64.\n",
            "Preparing to unpack .../3-libgmp-dev_2%3a6.1.2+dfsg-2_amd64.deb ...\n",
            "Unpacking libgmp-dev:amd64 (2:6.1.2+dfsg-2) ...\n",
            "Selecting previously unselected package libncursesw5-dev:amd64.\n",
            "Preparing to unpack .../4-libncursesw5-dev_6.1-1ubuntu1.18.04_amd64.deb ...\n",
            "Unpacking libncursesw5-dev:amd64 (6.1-1ubuntu1.18.04) ...\n",
            "Selecting previously unselected package libossp-uuid16:amd64.\n",
            "Preparing to unpack .../5-libossp-uuid16_1.6.2-1.5build4_amd64.deb ...\n",
            "Unpacking libossp-uuid16:amd64 (1.6.2-1.5build4) ...\n",
            "Selecting previously unselected package swi-prolog-nox.\n",
            "Preparing to unpack .../6-swi-prolog-nox_8.0.3-1-gcbd8b3b92-bionicppa2_amd64.deb ...\n",
            "Unpacking swi-prolog-nox (8.0.3-1-gcbd8b3b92-bionicppa2) ...\n",
            "Selecting previously unselected package swi-prolog-x.\n",
            "Preparing to unpack .../7-swi-prolog-x_8.0.3-1-gcbd8b3b92-bionicppa2_amd64.deb ...\n",
            "Unpacking swi-prolog-x (8.0.3-1-gcbd8b3b92-bionicppa2) ...\n",
            "Selecting previously unselected package swi-prolog.\n",
            "Preparing to unpack .../8-swi-prolog_8.0.3-1-gcbd8b3b92-bionicppa2_amd64.deb ...\n",
            "Unpacking swi-prolog (8.0.3-1-gcbd8b3b92-bionicppa2) ...\n",
            "Setting up libbsd-dev:amd64 (0.8.7-1) ...\n",
            "Setting up libossp-uuid16:amd64 (1.6.2-1.5build4) ...\n",
            "Setting up libncursesw5-dev:amd64 (6.1-1ubuntu1.18.04) ...\n",
            "Setting up libedit-dev:amd64 (3.1-20170329-1) ...\n",
            "Setting up libgmpxx4ldbl:amd64 (2:6.1.2+dfsg-2) ...\n",
            "Setting up libgmp-dev:amd64 (2:6.1.2+dfsg-2) ...\n",
            "Setting up swi-prolog-nox (8.0.3-1-gcbd8b3b92-bionicppa2) ...\n",
            "update-alternatives: using /usr/bin/swipl to provide /usr/bin/prolog (prolog) in auto mode\n",
            "Setting up swi-prolog-x (8.0.3-1-gcbd8b3b92-bionicppa2) ...\n",
            "Setting up swi-prolog (8.0.3-1-gcbd8b3b92-bionicppa2) ...\n",
            "Processing triggers for libc-bin (2.27-3ubuntu1) ...\n",
            "Processing triggers for man-db (2.8.3-2ubuntu0.1) ...\n"
          ],
          "name": "stdout"
        }
      ]
    },
    {
      "cell_type": "code",
      "metadata": {
        "id": "oz4e88BR2RAo",
        "colab_type": "code",
        "colab": {
          "base_uri": "https://localhost:8080/",
          "height": 85
        },
        "outputId": "4add7c2d-def5-407d-a9a2-a101041f8ce0"
      },
      "source": [
        "#install pyswip\n",
        "!pip install pyswip"
      ],
      "execution_count": 3,
      "outputs": [
        {
          "output_type": "stream",
          "text": [
            "Collecting pyswip\n",
            "  Downloading https://files.pythonhosted.org/packages/e4/f3/2b1462c4379b089426dbedb29d8d903e63baf37857ccf6e87f168b786019/pyswip-0.2.9-py2.py3-none-any.whl\n",
            "Installing collected packages: pyswip\n",
            "Successfully installed pyswip-0.2.9\n"
          ],
          "name": "stdout"
        }
      ]
    },
    {
      "cell_type": "markdown",
      "metadata": {
        "colab_type": "text",
        "id": "YwVgPW316S3l"
      },
      "source": [
        "---"
      ]
    },
    {
      "cell_type": "markdown",
      "metadata": {
        "colab_type": "text",
        "id": "rhbCLdSqKUy2"
      },
      "source": [
        "# **Μέρος 1: Μελέτη των Metadata, Δημιουργία κόσμου και των βασικών queries.**\n"
      ]
    },
    {
      "cell_type": "code",
      "metadata": {
        "colab_type": "code",
        "id": "Z_f0xW6_tHhp",
        "colab": {
          "base_uri": "https://localhost:8080/",
          "height": 360
        },
        "outputId": "0a19e2d9-704a-460e-f0d1-3d1873257035"
      },
      "source": [
        "# Η βιβλιοθήκη pandas είναι χρήσιμη για την εργασία με τέτοια δεδομένα\n",
        "import pandas as pd \n",
        "# Διάβασμα του αρχείου 'movie_metadata.csv' \n",
        "data = pd.read_csv(\"movie_metadata.csv\") \n",
        "#Στο csv υπαρχούν κελία με nan τιμές\n",
        "#Στις θέσεις αυτές βάζουμε 'UNK' πράγμα που  κάνουμε με την παρακάτω συνάρτηση\n",
        "data.fillna(\"UNK\", inplace=True)\n",
        "# Preview the first 5 lines of the loaded data \n",
        "data.head()"
      ],
      "execution_count": 7,
      "outputs": [
        {
          "output_type": "execute_result",
          "data": {
            "text/html": [
              "<div>\n",
              "<style scoped>\n",
              "    .dataframe tbody tr th:only-of-type {\n",
              "        vertical-align: middle;\n",
              "    }\n",
              "\n",
              "    .dataframe tbody tr th {\n",
              "        vertical-align: top;\n",
              "    }\n",
              "\n",
              "    .dataframe thead th {\n",
              "        text-align: right;\n",
              "    }\n",
              "</style>\n",
              "<table border=\"1\" class=\"dataframe\">\n",
              "  <thead>\n",
              "    <tr style=\"text-align: right;\">\n",
              "      <th></th>\n",
              "      <th>color</th>\n",
              "      <th>director_name</th>\n",
              "      <th>num_critic_for_reviews</th>\n",
              "      <th>duration</th>\n",
              "      <th>director_facebook_likes</th>\n",
              "      <th>actor_3_facebook_likes</th>\n",
              "      <th>actor_2_name</th>\n",
              "      <th>actor_1_facebook_likes</th>\n",
              "      <th>gross</th>\n",
              "      <th>genres</th>\n",
              "      <th>actor_1_name</th>\n",
              "      <th>movie_title</th>\n",
              "      <th>num_voted_users</th>\n",
              "      <th>cast_total_facebook_likes</th>\n",
              "      <th>actor_3_name</th>\n",
              "      <th>facenumber_in_poster</th>\n",
              "      <th>plot_keywords</th>\n",
              "      <th>movie_imdb_link</th>\n",
              "      <th>num_user_for_reviews</th>\n",
              "      <th>language</th>\n",
              "      <th>country</th>\n",
              "      <th>content_rating</th>\n",
              "      <th>budget</th>\n",
              "      <th>title_year</th>\n",
              "      <th>actor_2_facebook_likes</th>\n",
              "      <th>imdb_score</th>\n",
              "      <th>aspect_ratio</th>\n",
              "      <th>movie_facebook_likes</th>\n",
              "    </tr>\n",
              "  </thead>\n",
              "  <tbody>\n",
              "    <tr>\n",
              "      <th>0</th>\n",
              "      <td>Color</td>\n",
              "      <td>James Cameron</td>\n",
              "      <td>723</td>\n",
              "      <td>178</td>\n",
              "      <td>0</td>\n",
              "      <td>855</td>\n",
              "      <td>Joel David Moore</td>\n",
              "      <td>1000</td>\n",
              "      <td>7.60506e+08</td>\n",
              "      <td>Action|Adventure|Fantasy|Sci-Fi</td>\n",
              "      <td>CCH Pounder</td>\n",
              "      <td>Avatar</td>\n",
              "      <td>886204</td>\n",
              "      <td>4834</td>\n",
              "      <td>Wes Studi</td>\n",
              "      <td>0</td>\n",
              "      <td>avatar|future|marine|native|paraplegic</td>\n",
              "      <td>http://www.imdb.com/title/tt0499549/?ref_=fn_t...</td>\n",
              "      <td>3054</td>\n",
              "      <td>English</td>\n",
              "      <td>USA</td>\n",
              "      <td>PG-13</td>\n",
              "      <td>2.37e+08</td>\n",
              "      <td>2009</td>\n",
              "      <td>936</td>\n",
              "      <td>7.9</td>\n",
              "      <td>1.78</td>\n",
              "      <td>33000</td>\n",
              "    </tr>\n",
              "    <tr>\n",
              "      <th>1</th>\n",
              "      <td>Color</td>\n",
              "      <td>Gore Verbinski</td>\n",
              "      <td>302</td>\n",
              "      <td>169</td>\n",
              "      <td>563</td>\n",
              "      <td>1000</td>\n",
              "      <td>Orlando Bloom</td>\n",
              "      <td>40000</td>\n",
              "      <td>3.09404e+08</td>\n",
              "      <td>Action|Adventure|Fantasy</td>\n",
              "      <td>Johnny Depp</td>\n",
              "      <td>Pirates of the Caribbean: At World's End</td>\n",
              "      <td>471220</td>\n",
              "      <td>48350</td>\n",
              "      <td>Jack Davenport</td>\n",
              "      <td>0</td>\n",
              "      <td>goddess|marriage ceremony|marriage proposal|pi...</td>\n",
              "      <td>http://www.imdb.com/title/tt0449088/?ref_=fn_t...</td>\n",
              "      <td>1238</td>\n",
              "      <td>English</td>\n",
              "      <td>USA</td>\n",
              "      <td>PG-13</td>\n",
              "      <td>3e+08</td>\n",
              "      <td>2007</td>\n",
              "      <td>5000</td>\n",
              "      <td>7.1</td>\n",
              "      <td>2.35</td>\n",
              "      <td>0</td>\n",
              "    </tr>\n",
              "    <tr>\n",
              "      <th>2</th>\n",
              "      <td>Color</td>\n",
              "      <td>Sam Mendes</td>\n",
              "      <td>602</td>\n",
              "      <td>148</td>\n",
              "      <td>0</td>\n",
              "      <td>161</td>\n",
              "      <td>Rory Kinnear</td>\n",
              "      <td>11000</td>\n",
              "      <td>2.00074e+08</td>\n",
              "      <td>Action|Adventure|Thriller</td>\n",
              "      <td>Christoph Waltz</td>\n",
              "      <td>Spectre</td>\n",
              "      <td>275868</td>\n",
              "      <td>11700</td>\n",
              "      <td>Stephanie Sigman</td>\n",
              "      <td>1</td>\n",
              "      <td>bomb|espionage|sequel|spy|terrorist</td>\n",
              "      <td>http://www.imdb.com/title/tt2379713/?ref_=fn_t...</td>\n",
              "      <td>994</td>\n",
              "      <td>English</td>\n",
              "      <td>UK</td>\n",
              "      <td>PG-13</td>\n",
              "      <td>2.45e+08</td>\n",
              "      <td>2015</td>\n",
              "      <td>393</td>\n",
              "      <td>6.8</td>\n",
              "      <td>2.35</td>\n",
              "      <td>85000</td>\n",
              "    </tr>\n",
              "    <tr>\n",
              "      <th>3</th>\n",
              "      <td>Color</td>\n",
              "      <td>Christopher Nolan</td>\n",
              "      <td>813</td>\n",
              "      <td>164</td>\n",
              "      <td>22000</td>\n",
              "      <td>23000</td>\n",
              "      <td>Christian Bale</td>\n",
              "      <td>27000</td>\n",
              "      <td>4.48131e+08</td>\n",
              "      <td>Action|Thriller</td>\n",
              "      <td>Tom Hardy</td>\n",
              "      <td>The Dark Knight Rises</td>\n",
              "      <td>1144337</td>\n",
              "      <td>106759</td>\n",
              "      <td>Joseph Gordon-Levitt</td>\n",
              "      <td>0</td>\n",
              "      <td>deception|imprisonment|lawlessness|police offi...</td>\n",
              "      <td>http://www.imdb.com/title/tt1345836/?ref_=fn_t...</td>\n",
              "      <td>2701</td>\n",
              "      <td>English</td>\n",
              "      <td>USA</td>\n",
              "      <td>PG-13</td>\n",
              "      <td>2.5e+08</td>\n",
              "      <td>2012</td>\n",
              "      <td>23000</td>\n",
              "      <td>8.5</td>\n",
              "      <td>2.35</td>\n",
              "      <td>164000</td>\n",
              "    </tr>\n",
              "    <tr>\n",
              "      <th>4</th>\n",
              "      <td>UNK</td>\n",
              "      <td>Doug Walker</td>\n",
              "      <td>UNK</td>\n",
              "      <td>UNK</td>\n",
              "      <td>131</td>\n",
              "      <td>UNK</td>\n",
              "      <td>Rob Walker</td>\n",
              "      <td>131</td>\n",
              "      <td>UNK</td>\n",
              "      <td>Documentary</td>\n",
              "      <td>Doug Walker</td>\n",
              "      <td>Star Wars: Episode VII - The Force Awakens    ...</td>\n",
              "      <td>8</td>\n",
              "      <td>143</td>\n",
              "      <td>UNK</td>\n",
              "      <td>0</td>\n",
              "      <td>UNK</td>\n",
              "      <td>http://www.imdb.com/title/tt5289954/?ref_=fn_t...</td>\n",
              "      <td>UNK</td>\n",
              "      <td>UNK</td>\n",
              "      <td>UNK</td>\n",
              "      <td>UNK</td>\n",
              "      <td>UNK</td>\n",
              "      <td>UNK</td>\n",
              "      <td>12</td>\n",
              "      <td>7.1</td>\n",
              "      <td>UNK</td>\n",
              "      <td>0</td>\n",
              "    </tr>\n",
              "  </tbody>\n",
              "</table>\n",
              "</div>"
            ],
            "text/plain": [
              "   color      director_name  ... aspect_ratio movie_facebook_likes\n",
              "0  Color      James Cameron  ...         1.78                33000\n",
              "1  Color     Gore Verbinski  ...         2.35                    0\n",
              "2  Color         Sam Mendes  ...         2.35                85000\n",
              "3  Color  Christopher Nolan  ...         2.35               164000\n",
              "4    UNK        Doug Walker  ...          UNK                    0\n",
              "\n",
              "[5 rows x 28 columns]"
            ]
          },
          "metadata": {
            "tags": []
          },
          "execution_count": 7
        }
      ]
    },
    {
      "cell_type": "code",
      "metadata": {
        "colab_type": "code",
        "id": "dG4-a9_FzRRd",
        "colab": {}
      },
      "source": [
        "from pyswip import Prolog"
      ],
      "execution_count": 0,
      "outputs": []
    },
    {
      "cell_type": "code",
      "metadata": {
        "colab_type": "code",
        "id": "ceBtnUMn7Mwm",
        "colab": {}
      },
      "source": [
        "def clean_text(text):\n",
        "    text = text.replace(u'\\xa0', u'')\n",
        "    text = text.replace(u\"'\", u'')\n",
        "    text = text.replace(u'\"', u'')\n",
        "    return text"
      ],
      "execution_count": 0,
      "outputs": []
    },
    {
      "cell_type": "markdown",
      "metadata": {
        "id": "e7NWjG13SFwY",
        "colab_type": "text"
      },
      "source": [
        "##Ερώτημα 1α\n",
        "Κατασκευάζουμε τον κόσμο του προβλήματος."
      ]
    },
    {
      "cell_type": "code",
      "metadata": {
        "colab_type": "code",
        "id": "8-fmdlMxxBzx",
        "colab": {}
      },
      "source": [
        "#create World\n",
        "#Ορίζουμε τον κόσμο μας\n",
        "prolog = Prolog()\n",
        "#και σβήνουμε ότι υπήρχε αποθηκευμένο από πρίν\n",
        "prolog.query('make')\n",
        "\n",
        "#Για κάθε row του πίνακα φτιάχνουμε τα κατηγοτήματα που θέλουμε να αποθηκέυσουμε\n",
        "#αρχικά σε μια λίστα με το όνομα literals\n",
        "literals = []\n",
        "movie_score = {}\n",
        "for row in data.itertuples(index=True, name='Pandas'):\n",
        "    movie_title = clean_text(getattr(row, 'movie_title'))\n",
        "    director = clean_text(getattr(row, 'director_name'))\n",
        "    actor1 = clean_text(getattr(row, 'actor_1_name'))\n",
        "    actor2 = clean_text(getattr(row, 'actor_2_name'))\n",
        "    actor3 = clean_text(getattr(row, 'actor_3_name'))\n",
        "    language = clean_text(getattr(row, 'language'))\n",
        "    color = clean_text(getattr(row, 'color'))\n",
        "    country = clean_text(getattr(row, 'country'))\n",
        "    imdb_score = str(getattr(row, 'imdb_score'))\n",
        "    title_year = str(getattr(row, 'title_year'))\n",
        "\n",
        "    \n",
        "    movie_score[movie_title] = 0\n",
        "    \n",
        "    if movie_title != \"UNK\":\n",
        "        if director != \"UNK\":\n",
        "            literals.append(\"director('\"+ movie_title +\"','\" + director + \"')\")\n",
        "        if actor1 != \"UNK\":\n",
        "            literals.append(\"actors('\"+ movie_title +\"','\" + actor1 + \"')\")\n",
        "        if actor2 != \"UNK\":\n",
        "            literals.append(\"actors('\"+ movie_title +\"','\" + actor2 + \"')\")\n",
        "        if actor3 != \"UNK\":\n",
        "            literals.append(\"actors('\"+ movie_title +\"','\" + actor3 + \"')\")\n",
        "        if language != \"UNK\":\n",
        "            literals.append(\"language('\"+ movie_title +\"','\" + language + \"')\")\n",
        "        if country != \"UNK\":\n",
        "            literals.append(\"country('\"+ movie_title +\"','\" + country + \"')\")\n",
        "        if imdb_score != \"UNK\":\n",
        "            literals.append(\"imdb_score('\"+ movie_title +\"','\" + imdb_score + \"')\")\n",
        "        if title_year != \"UNK\":\n",
        "            literals.append(\"title_year('\"+ movie_title +\"','\" + title_year + \"')\")\n",
        "        for genre in getattr(row, 'genres').split(\"|\"):\n",
        "            literals.append(\"genre('\"+ movie_title +\"','\"+ genre +\"')\")\n",
        "        for plot in getattr(row, 'plot_keywords').split(\"|\"):\n",
        "            if plot != \"UNK\":\n",
        "                literals.append(\"plot('\"+ movie_title +\"','\"+ clean_text(plot) +\"')\")\n",
        "\n",
        "#Η Prolog θέλει τα κατηγορήματά της με την σειρά \n",
        "literals.sort()\n",
        "for literal in literals:\n",
        "    prolog.assertz(literal)"
      ],
      "execution_count": 0,
      "outputs": []
    },
    {
      "cell_type": "markdown",
      "metadata": {
        "id": "rTjG_8Xu3Jlr",
        "colab_type": "text"
      },
      "source": [
        "## Ερώτημα 1β\n",
        "\n",
        "Kάνουμε consult ένα έτοιμό αρχείο, όπου έχουμε δημιουργήσει απλούς κανόνες οι οποίοι θα βρίσκουν όλες τις ταινίες με βάση τα ζητούμενα χαρακτηριστικά.\n",
        "\n",
        "Σημειώνεται ότι έγινε αλλαγή στην κλιμακωσιμότητα για τα queries που αφορούν την πλοκή και το θέμα (από 1 εώς 5), ενώ για τους ηθοποιούς παρέμεινε η ίδια (από 1 εώς 3) καθώς δεν είναι δυνατή η αλλαγή της, μιας και για κάθε ταινία στο αρχείο csv περιέχονται μόνο 3 ηθοποιοί. Ακόμα, προστέθηκαν περισσότερα ερωτήματα, τα οποία αφορούν το έτος κυκλοφορίας και την βαθμολογία στο imdb."
      ]
    },
    {
      "cell_type": "code",
      "metadata": {
        "id": "P_FfkkZEYI8F",
        "colab_type": "code",
        "colab": {}
      },
      "source": [
        "prolog.consult('db.pl')"
      ],
      "execution_count": 0,
      "outputs": []
    },
    {
      "cell_type": "markdown",
      "metadata": {
        "colab_type": "text",
        "id": "gpMVPz-3K07i"
      },
      "source": [
        "# **2ο Μέρος: Recommendation System με βάση μόνο τα χαρακτηριστικά των ταινιών.**\n",
        "\n",
        "Στο σημείο αυτό με βάση τους κανόνες που κατασκευάστηκαν στο Μέρος 1, κατασκευάζονται κλιμακούμενα ερωτήματα για την ομοιότητα ταινιών."
      ]
    },
    {
      "cell_type": "code",
      "metadata": {
        "id": "FAj7OToy1iP8",
        "colab_type": "code",
        "colab": {}
      },
      "source": [
        "prolog.assertz('(find_similar_movies_5(X, Y) :- find_similar_director(X, Y), find_similar_language(X, Y), find_similar_genre_2(X, Y) )')\n",
        "prolog.assertz('(find_similar_movies_4(X, Y) :- find_similar_actors_3(X, Y), find_similar_genre_1(X, Y), not(find_similar_movies_5(X, Y)) )')\n",
        "prolog.assertz('(find_similar_movies_3(X, Y) :- find_similar_genre_3(X, Y), find_similar_language(X, Y), not(find_similar_movies_4(X, Y)) )')\n",
        "prolog.assertz('(find_similar_movies_2(X, Y) :- find_similar_language(X, Y), find_similar_plot_2(X, Y), not(find_similar_movies_3(X, Y)) )')\n",
        "prolog.assertz('(find_similar_movies_1(X, Y) :- find_similar_genre_2(X, Y), not(find_similar_movies_2(X, Y)) )')"
      ],
      "execution_count": 0,
      "outputs": []
    },
    {
      "cell_type": "code",
      "metadata": {
        "colab_type": "code",
        "id": "DeAvc55byC0l",
        "colab": {}
      },
      "source": [
        "def simple_recommender(movie):\n",
        "\n",
        "    q = prolog.query(\"find_similar_movies_5('\" + movie +\"',M)\")\n",
        "    ans5 = []\n",
        "    for soln in q:\n",
        "        ans5.append(soln[\"M\"])\n",
        "    ans = set(ans5)\n",
        "    \n",
        "    q = prolog.query(\"find_similar_movies_4('\" + movie +\"',M)\")\n",
        "    ans4 = []\n",
        "    for soln in q:\n",
        "        if soln[\"M\"] not in ans:\n",
        "            ans4.append(soln[\"M\"])\n",
        "            ans.add(soln[\"M\"])\n",
        "\n",
        "    q = prolog.query(\"find_similar_movies_3('\" + movie +\"',M)\")\n",
        "    ans3 = []\n",
        "    for soln in q:\n",
        "        if soln[\"M\"] not in ans:\n",
        "            ans3.append(soln[\"M\"])\n",
        "            ans.add(soln[\"M\"])\n",
        "\n",
        "    q = prolog.query(\"find_similar_movies_2('\" + movie +\"',M)\")\n",
        "    ans2 = []\n",
        "    for soln in q:\n",
        "        if soln[\"M\"] not in ans:\n",
        "            ans2.append(soln[\"M\"])\n",
        "            ans.add(soln[\"M\"])\n",
        "\n",
        "    q = prolog.query(\"find_similar_movies_1('\" + movie +\"',M)\")\n",
        "    ans1 = []\n",
        "    for soln in q:\n",
        "        if soln[\"M\"] not in ans:\n",
        "            ans1.append(soln[\"M\"])\n",
        "            ans.add(soln[\"M\"])\n",
        "\n",
        "    #κάνουμε κάποιο Processing στα παραπάνω αποτελέσματα και επιστρέφουμε τις \"όμοιες\" ταινίες με φθίνουσα σειρά\n",
        "    return list(set(ans5))[:10], list(set(ans4))[:10], list(set(ans3))[:10], list(set(ans2))[:10], list(set(ans1))[:10]"
      ],
      "execution_count": 0,
      "outputs": []
    },
    {
      "cell_type": "markdown",
      "metadata": {
        "id": "UcuEXaW09GYC",
        "colab_type": "text"
      },
      "source": [
        "##Αποτελέσματα"
      ]
    },
    {
      "cell_type": "markdown",
      "metadata": {
        "colab_type": "text",
        "id": "wCryo9VGAeWi"
      },
      "source": [
        "Στο σημείο αυτό θα ζητήσουμε από το σύστημα να μας επιστρέψει ορισμένα αποτελέσματα για ταινίες για να εξετάσουμε την απόδοσή του.\n"
      ]
    },
    {
      "cell_type": "code",
      "metadata": {
        "colab_type": "code",
        "id": "_isjJITtG7P3",
        "colab": {
          "base_uri": "https://localhost:8080/",
          "height": 425
        },
        "outputId": "2c7b3a50-4147-419c-9f2a-2cae077f87a1"
      },
      "source": [
        "simple_recommender('Pirates of the Caribbean: Dead Mans Chest')"
      ],
      "execution_count": 14,
      "outputs": [
        {
          "output_type": "execute_result",
          "data": {
            "text/plain": [
              "(['The Lone Ranger'],\n",
              " ['Pirates of the Caribbean: At Worlds End',\n",
              "  'Pirates of the Caribbean: The Curse of the Black Pearl'],\n",
              " ['Atlantis: The Lost Empire',\n",
              "  'The Golden Child',\n",
              "  'Mighty Joe Young',\n",
              "  'X-Men: The Last Stand',\n",
              "  'The Mummy Returns',\n",
              "  'Underworld: Rise of the Lycans',\n",
              "  'Beowulf',\n",
              "  'Krull',\n",
              "  'Journey to the Center of the Earth',\n",
              "  'Destiny'],\n",
              " [],\n",
              " ['Toy Story 2',\n",
              "  'King Kong',\n",
              "  'Howard the Duck',\n",
              "  'Transformers: Revenge of the Fallen',\n",
              "  'The Bounty',\n",
              "  'The Prince of Egypt',\n",
              "  'The Promise',\n",
              "  'Frozen',\n",
              "  'Battleship',\n",
              "  'Harry Potter and the Prisoner of Azkaban'])"
            ]
          },
          "metadata": {
            "tags": []
          },
          "execution_count": 14
        }
      ]
    },
    {
      "cell_type": "code",
      "metadata": {
        "colab_type": "code",
        "id": "IxNuJ6kX1m0m",
        "colab": {
          "base_uri": "https://localhost:8080/",
          "height": 323
        },
        "outputId": "d209585f-fefe-4814-f114-3008b179fa4d"
      },
      "source": [
        "simple_recommender(\"Indiana Jones and the Temple of Doom\")"
      ],
      "execution_count": 15,
      "outputs": [
        {
          "output_type": "execute_result",
          "data": {
            "text/plain": [
              "(['The Adventures of Tintin',\n",
              "  'Indiana Jones and the Kingdom of the Crystal Skull',\n",
              "  'The Lost World: Jurassic Park',\n",
              "  'Indiana Jones and the Last Crusade',\n",
              "  'Raiders of the Lost Ark'],\n",
              " [],\n",
              " [],\n",
              " [],\n",
              " ['Atlantis: The Lost Empire',\n",
              "  'King Kong',\n",
              "  'The Golden Child',\n",
              "  'Howard the Duck',\n",
              "  'Transformers: Revenge of the Fallen',\n",
              "  'The Bounty',\n",
              "  'The Mummy Returns',\n",
              "  'Underworld: Rise of the Lycans',\n",
              "  'Krull',\n",
              "  'Battleship'])"
            ]
          },
          "metadata": {
            "tags": []
          },
          "execution_count": 15
        }
      ]
    },
    {
      "cell_type": "code",
      "metadata": {
        "id": "69rpsWGLv6I7",
        "colab_type": "code",
        "colab": {
          "base_uri": "https://localhost:8080/",
          "height": 459
        },
        "outputId": "7c1b74d4-6dc9-4199-9748-a13ea05cb896"
      },
      "source": [
        "simple_recommender(\"Species\")"
      ],
      "execution_count": 16,
      "outputs": [
        {
          "output_type": "execute_result",
          "data": {
            "text/plain": [
              "(['Dantes Peak', 'The November Man'],\n",
              " [],\n",
              " ['Dawn of the Dead',\n",
              "  'Skyline',\n",
              "  'Anacondas: The Hunt for the Blood Orchid',\n",
              "  'The Covenant',\n",
              "  '10 Cloverfield Lane',\n",
              "  'Doomsday',\n",
              "  'Deep Impact',\n",
              "  'X-Men: The Last Stand',\n",
              "  'Grindhouse',\n",
              "  'Resident Evil'],\n",
              " ['The Day the Earth Stood Still',\n",
              "  'Titan A.E.',\n",
              "  'The Andromeda Strain',\n",
              "  'Splice'],\n",
              " ['Atlantis: The Lost Empire',\n",
              "  'Def-Con 4',\n",
              "  'Jaws 2',\n",
              "  'Blue Streak',\n",
              "  'Pride and Prejudice and Zombies',\n",
              "  'Howard the Duck',\n",
              "  'The Boy',\n",
              "  'Transformers: Revenge of the Fallen',\n",
              "  'Subconscious',\n",
              "  'Fast Five'])"
            ]
          },
          "metadata": {
            "tags": []
          },
          "execution_count": 16
        }
      ]
    },
    {
      "cell_type": "markdown",
      "metadata": {
        "id": "_HPNZNoVERYy",
        "colab_type": "text"
      },
      "source": [
        "##Αξιολόγηση"
      ]
    },
    {
      "cell_type": "markdown",
      "metadata": {
        "id": "XT_aC0S9s7D_",
        "colab_type": "text"
      },
      "source": [
        "Για την αξιολόγηση των αποτελεσμάτων των συστάσεων, χρησιμοποιήθηκε το αρχείο relative_movies.csv (με ορισμένες ταινίες και τα 10 πρώτα αποτελέσματά τους σε φθίνουσα σειρά ομοιότητας). Για τη σύγκρισή αυτή χρησιμοποιείται η συνάρτηση ομοιότητας συνόλων Jaccard\n",
        "\n",
        "$$jaccard(A,B)=\\frac{|A\\cap B|}{|A\\cup B|}$$ \n",
        "\n",
        "Αξίζει να σημειωθεί ότι η παραπάνω σύγκριση δεν είναι απόλυτη για τον λόγο ότι οι συναρτήσεις ομοιότητας μπορεί να είναι διαφορετικές (διαφορετικά ορίζει ο καθένας της ομοιότητα μεταξύ ταινιών) καθώς επίσης αν μια ταινία δεν έχει πολύ σχετικές προτάσεις τότε οι πιο γενικές συναρτήσεις ομοιότητας θα έχουν πολλά αποτελέσματα τα όποια η Prolog θα επιστρέψει με την σειρά που τα βρίσκει στην βάση, όποτε τότε δεν έχει ιδιαίτερο νόημα η σύγκριση σε αυτήν την περίπτωση.\n",
        "Η ομοιότητα των ταινιών είναι βοηθητική και σκοπό έχει να σας βοηθήσει να κατανοήσετε την κατεύθυνση της ασκήσης και όχι για να καταφέρετε την πλήρη ταύτιση των συστάσεων."
      ]
    },
    {
      "cell_type": "code",
      "metadata": {
        "id": "Fusp6a8p2RBp",
        "colab_type": "code",
        "colab": {}
      },
      "source": [
        "def jaccard_similarity(list1, list2):\n",
        "    set1 = set(list1)\n",
        "    set2 = set(list2)\n",
        "    intersection = len(set1.intersection(set2))\n",
        "    union = len(set1) + len(set2) - intersection\n",
        "    return intersection / union"
      ],
      "execution_count": 0,
      "outputs": []
    },
    {
      "cell_type": "code",
      "metadata": {
        "id": "U7tcXw47EfoL",
        "colab_type": "code",
        "colab": {}
      },
      "source": [
        "#διάβασμα του αρχείου relative_movies.csv\n",
        "data_relative = pd.read_csv(\"relative_movies.csv\")\n",
        "\n",
        "relative = {}\n",
        "for row in data_relative.itertuples(index=True, name='Pandas'):\n",
        "    movie_title = clean_text(getattr(row, 'movie_title'))\n",
        "\n",
        "    rel = []\n",
        "    if movie_title != \"UNK\":\n",
        "      for m in getattr(row, 'relative_movies').split(\",\"):\n",
        "            if m != \"UNK\":\n",
        "                rel.append( m )\n",
        "\n",
        "    relative[movie_title] = rel"
      ],
      "execution_count": 0,
      "outputs": []
    },
    {
      "cell_type": "code",
      "metadata": {
        "id": "iKXvCz0UHz4s",
        "colab_type": "code",
        "colab": {}
      },
      "source": [
        "# Δημιουργία λιστών για την αξιολόγηση της ταινίας movie\n",
        "def simple_compare(movie):\n",
        "  l = simple_recommender(movie)\n",
        "  flat_list = [item for sublist in l for item in sublist][:10]\n",
        "  print(jaccard_similarity(flat_list, relative[movie]))"
      ],
      "execution_count": 0,
      "outputs": []
    },
    {
      "cell_type": "code",
      "metadata": {
        "id": "qF8NW9lDaphp",
        "colab_type": "code",
        "colab": {
          "base_uri": "https://localhost:8080/",
          "height": 34
        },
        "outputId": "c2217772-1f70-48ae-fa37-f5b3063690cc"
      },
      "source": [
        "simple_compare(\"Species\")"
      ],
      "execution_count": 19,
      "outputs": [
        {
          "output_type": "stream",
          "text": [
            "0.1111111111111111\n"
          ],
          "name": "stdout"
        }
      ]
    },
    {
      "cell_type": "markdown",
      "metadata": {
        "colab_type": "text",
        "id": "aAM9o2UZFbMC"
      },
      "source": [
        "# **3ο Μέρος: Recommendation System Με βάση τις προτιμήσεις-αξιολογήσεις του χρήστη**\n"
      ]
    },
    {
      "cell_type": "markdown",
      "metadata": {
        "id": "iOx6AxwxTT07",
        "colab_type": "text"
      },
      "source": [
        "##User 1"
      ]
    },
    {
      "cell_type": "markdown",
      "metadata": {
        "id": "aoNfWfq4pJYR",
        "colab_type": "text"
      },
      "source": [
        "Εργαζόμαστε με τα αρχεία user1.csv και user2.csv, τα όποια περιέχουν αξιολογήσεις (από 1 μέχρι 5) για ταινίες από 2 διαφορετικούς χρήστες. Οι συστάσεις τώρα θα λαμβάνουν υπόψιν και τις προτιμήσεις του χρήστη, οι όποιες θα εξάγονται από τις αξιολογήσεις που έχει κάνει μέχρι στιγμής. \n",
        "\n",
        "Αρχικά μελετάμε τις αξιολογήσεις κάθε χρήστη για να καταλάβουμε την δομή και τις πληροφορίες κάθε αρχείου."
      ]
    },
    {
      "cell_type": "code",
      "metadata": {
        "colab_type": "code",
        "id": "wdheN52GETd8",
        "colab": {
          "base_uri": "https://localhost:8080/",
          "height": 204
        },
        "outputId": "ef214a01-498b-474b-8c6c-b2d035b382f7"
      },
      "source": [
        "user = \"user1.csv\"\n",
        "ratings = pd.read_csv(user) \n",
        "\n",
        "# Preview the first 5 lines of the loaded data \n",
        "ratings.head()"
      ],
      "execution_count": 20,
      "outputs": [
        {
          "output_type": "execute_result",
          "data": {
            "text/html": [
              "<div>\n",
              "<style scoped>\n",
              "    .dataframe tbody tr th:only-of-type {\n",
              "        vertical-align: middle;\n",
              "    }\n",
              "\n",
              "    .dataframe tbody tr th {\n",
              "        vertical-align: top;\n",
              "    }\n",
              "\n",
              "    .dataframe thead th {\n",
              "        text-align: right;\n",
              "    }\n",
              "</style>\n",
              "<table border=\"1\" class=\"dataframe\">\n",
              "  <thead>\n",
              "    <tr style=\"text-align: right;\">\n",
              "      <th></th>\n",
              "      <th>movie_title</th>\n",
              "      <th>rating</th>\n",
              "    </tr>\n",
              "  </thead>\n",
              "  <tbody>\n",
              "    <tr>\n",
              "      <th>0</th>\n",
              "      <td>Heavy Metal</td>\n",
              "      <td>4</td>\n",
              "    </tr>\n",
              "    <tr>\n",
              "      <th>1</th>\n",
              "      <td>The Croods</td>\n",
              "      <td>5</td>\n",
              "    </tr>\n",
              "    <tr>\n",
              "      <th>2</th>\n",
              "      <td>Watchmen</td>\n",
              "      <td>4</td>\n",
              "    </tr>\n",
              "    <tr>\n",
              "      <th>3</th>\n",
              "      <td>The Matrix</td>\n",
              "      <td>4</td>\n",
              "    </tr>\n",
              "    <tr>\n",
              "      <th>4</th>\n",
              "      <td>The Emperors New Groove</td>\n",
              "      <td>5</td>\n",
              "    </tr>\n",
              "  </tbody>\n",
              "</table>\n",
              "</div>"
            ],
            "text/plain": [
              "               movie_title  rating\n",
              "0              Heavy Metal       4\n",
              "1               The Croods       5\n",
              "2                 Watchmen       4\n",
              "3               The Matrix       4\n",
              "4  The Emperors New Groove       5"
            ]
          },
          "metadata": {
            "tags": []
          },
          "execution_count": 20
        }
      ]
    },
    {
      "cell_type": "markdown",
      "metadata": {
        "colab_type": "text",
        "id": "_AmyMzx5dXtS"
      },
      "source": [
        "**Κατασκευάζουμε τα scores για κάθε ταινία με βάση τις προηγούμενες αξιολογήσεις του χρήστη**\n",
        "\n",
        "Αν $rated\\_movies$ είναι το σύνολο ταινιών που έχει αξιολογήσει ο χρήστης, τότε τα recommendations που θα λαμβάνει ο χρήστης θα είναι οι ταινίες που είναι τουλάχιστον similar_1 με τουλάχιστον μία ταινία που έχει βαθμολογήσει ο χρήστης, σε φθίνουσα σειρά recommendation_score, όπου:\n",
        "\n",
        "$$recommendation\\_score(m_1)=\\sum_{m_2\\in rated\\_movies} similarity\\_weight(m_1,m_2)\\cdot voting\\_weight(m_2)$$"
      ]
    },
    {
      "cell_type": "code",
      "metadata": {
        "colab_type": "code",
        "id": "6V4QJFUTbRZC",
        "colab": {}
      },
      "source": [
        "similarity_weights = {\"similarity_5\": 15, \"similarity_4\":7, \"similarity_3\":3, \"similarity_2\":2, \"similarity_1\":1}\n",
        "rating_weight = {5: 10, 4: 5, 3: 0, 2: -5, 1: -10}\n",
        "\n",
        "movie_score = {m: 0 for m in  movie_score}\n",
        "for row in ratings.itertuples(index=True, name='Pandas'):\n",
        "    movie = clean_text(getattr(row, 'movie_title'))\n",
        "    rating = getattr(row, 'rating')    \n",
        "    \n",
        "    q = prolog.query(\"find_similar_movies_5('\" + movie + \"',M)\")\n",
        "    for soln in q:\n",
        "        movie_score [soln[\"M\"]] += similarity_weights['similarity_5'] * rating_weight[rating] #το weight θα το ορίσετε ανα επίπεδο ομοιότητας οι πολύ όμοιες ταινίες θα έχουν μεγαλύτερο βάρος\n",
        "    q.close()\n",
        "    \n",
        "    q = prolog.query(\"find_similar_movies_4('\" + movie + \"',M)\")\n",
        "    for soln in q:\n",
        "        movie_score [soln[\"M\"]] += similarity_weights['similarity_4'] * rating_weight[rating] #το weight θα το ορίσετε ανα επίπεδο ομοιότητας οι πολύ όμοιες ταινίες θα έχουν μεγαλύτερο βάρος\n",
        "    q.close()\n",
        "\n",
        "    q = prolog.query(\"find_similar_movies_3('\" + movie + \"',M)\")\n",
        "    c = 0\n",
        "    for soln in q:\n",
        "        c += 1\n",
        "        if c>10: break\n",
        "        movie_score [soln[\"M\"]] += similarity_weights['similarity_3'] * rating_weight[rating] #το weight θα το ορίσετε ανα επίπεδο ομοιότητας οι πολύ όμοιες ταινίες θα έχουν μεγαλύτερο βάρος\n",
        "    q.close()\n",
        "\n",
        "    q = prolog.query(\"find_similar_movies_2('\" + movie + \"',M)\")\n",
        "    c = 0\n",
        "    for soln in q:\n",
        "        c += 1\n",
        "        if c>5: break\n",
        "        movie_score [soln[\"M\"]] += similarity_weights['similarity_2'] * rating_weight[rating] #το weight θα το ορίσετε ανα επίπεδο ομοιότητας οι πολύ όμοιες ταινίες θα έχουν μεγαλύτερο βάρος\n",
        "    q.close()\n",
        "\n",
        "    q = prolog.query(\"find_similar_movies_1('\" + movie + \"',M)\")\n",
        "    c = 0\n",
        "    for soln in q:\n",
        "        c += 1\n",
        "        if c>5: break\n",
        "        movie_score [soln[\"M\"]] += similarity_weights['similarity_1'] * rating_weight[rating] #το weight θα το ορίσετε ανα επίπεδο ομοιότητας οι πολύ όμοιες ταινίες θα έχουν μεγαλύτερο βάρος\n",
        "    q.close()\n"
      ],
      "execution_count": 0,
      "outputs": []
    },
    {
      "cell_type": "markdown",
      "metadata": {
        "colab_type": "text",
        "id": "luU3can3dm-N"
      },
      "source": [
        "**Στο σημείο αυτό κατασκευάζουμε την νέα συνάρτηση η όποια θα επιστρέφει τις προτεινόμενες ταινίες συνυπολογίζοντας τις αξιολογήσεις του χρήστη.**"
      ]
    },
    {
      "cell_type": "code",
      "metadata": {
        "colab_type": "code",
        "id": "kvL14dw3c9cF",
        "colab": {}
      },
      "source": [
        "def recommender(movie_score):\n",
        "    movies_score = {k: v for k, v in sorted(movie_score.items(), key=lambda item: item[1], reverse = True)}\n",
        "    return [m for m in movies_score][:10]"
      ],
      "execution_count": 0,
      "outputs": []
    },
    {
      "cell_type": "code",
      "metadata": {
        "colab_type": "code",
        "id": "VkHP2NVEvpqR",
        "colab": {
          "base_uri": "https://localhost:8080/",
          "height": 187
        },
        "outputId": "eb2d8c54-ff09-425a-e2e3-7c207de8eabd"
      },
      "source": [
        "recommender(movie_score)"
      ],
      "execution_count": 23,
      "outputs": [
        {
          "output_type": "execute_result",
          "data": {
            "text/plain": [
              "['Teenage Mutant Ninja Turtles',\n",
              " 'Trance',\n",
              " '20,000 Leagues Under the Sea',\n",
              " 'Star Wars: Episode III - Revenge of the Sith',\n",
              " 'Star Wars: Episode I - The Phantom Menace',\n",
              " 'Chicken Little',\n",
              " 'Space Chimps',\n",
              " 'Cats Dont Dance',\n",
              " 'Star Wars: Episode IV - A New Hope',\n",
              " 'Pirates of the Caribbean: At Worlds End']"
            ]
          },
          "metadata": {
            "tags": []
          },
          "execution_count": 23
        }
      ]
    },
    {
      "cell_type": "markdown",
      "metadata": {
        "id": "TP_aJtvc2RCM",
        "colab_type": "text"
      },
      "source": [
        "Μελετώντας το αρχείο user1.csv, παρατηρούμε πως ο χρήστης 1 έχει αξιολογήσει με 5 κυρίως ταινίες που ανήκουν στις κατηγορίες family, adventure, sci-fi/fantasy. Βλέπουμε πράγματι πως οι προτάσεις του συστήματος συστάσεων είναι ταινίες που ανήκουν σε αυτές τις κατηγορίες. Φυσικά υπάρχουν και πολλά ακόμη κοινά χαρακτηριστικά μεταξύ των ταινιών με υψηλές αξιολογήσεις και αυτών που προτείνει το σύστημά μας. \n",
        "\n",
        "Σε κάθε περίπτωση, το σύστημά μας διαφέρει από αυτό τους 2ου μέρους, μιας και τότε παράγονταν συστάσεις από μία ταινία και με βάση τα χαρακτηριστικά της, ενώ τώρα παράγονται συστάσεις για έναν χρήστη, συνδυάζοντας ταινίες - αξιολογήσεις, και λαμβάνονται υπόψη τόσο τα χαρακτηριστικά αυτών των ταινιών, όσο και η βαθμολογία του χρήστη για κάθε μία. \n",
        "\n",
        "Με λίγα λόγια, το σύστημα συστάσεων τώρα είναι αναβαθμισμένο και αφορά κάθε φορά έναν συγκεκριμένο χρήστη και τις προτιμήσεις του και όχι μια συγκεκριμένη ταινία."
      ]
    },
    {
      "cell_type": "markdown",
      "metadata": {
        "id": "qgA86An0B6uR",
        "colab_type": "text"
      },
      "source": [
        "##User 2"
      ]
    },
    {
      "cell_type": "code",
      "metadata": {
        "id": "LbOrLr1XB92S",
        "colab_type": "code",
        "colab": {}
      },
      "source": [
        "user = \"user2.csv\"\n",
        "ratings2 = pd.read_csv(user) "
      ],
      "execution_count": 0,
      "outputs": []
    },
    {
      "cell_type": "code",
      "metadata": {
        "id": "T0Bm--FpLKuo",
        "colab_type": "code",
        "colab": {}
      },
      "source": [
        "similarity_weights = {\"similarity_5\": 15, \"similarity_4\":7, \"similarity_3\":3, \"similarity_2\":2, \"similarity_1\":1}\n",
        "rating_weight = {5: 10, 4: 5, 3: 0, 2: -5, 1: -10}\n",
        "\n",
        "movie_score = {m: 0 for m in  movie_score}\n",
        "for row in ratings2.itertuples(index=True, name='Pandas'):\n",
        "    movie = clean_text(getattr(row, 'movie_title'))\n",
        "    rating = getattr(row, 'rating')    \n",
        "    \n",
        "    q = prolog.query(\"find_similar_movies_5('\" + movie + \"',M)\")\n",
        "    for soln in q:\n",
        "        movie_score [soln[\"M\"]] += similarity_weights['similarity_5'] * rating_weight[rating] #το weight θα το ορίσετε ανα επίπεδο ομοιότητας οι πολύ όμοιες ταινίες θα έχουν μεγαλύτερο βάρος\n",
        "    q.close()\n",
        "    \n",
        "    q = prolog.query(\"find_similar_movies_4('\" + movie + \"',M)\")\n",
        "    for soln in q:\n",
        "        movie_score [soln[\"M\"]] += similarity_weights['similarity_4'] * rating_weight[rating] #το weight θα το ορίσετε ανα επίπεδο ομοιότητας οι πολύ όμοιες ταινίες θα έχουν μεγαλύτερο βάρος\n",
        "    q.close()\n",
        "\n",
        "    q = prolog.query(\"find_similar_movies_3('\" + movie + \"',M)\")\n",
        "    c = 0\n",
        "    for soln in q:\n",
        "        c += 1\n",
        "        if c>10: break\n",
        "        movie_score [soln[\"M\"]] += similarity_weights['similarity_3'] * rating_weight[rating] #το weight θα το ορίσετε ανα επίπεδο ομοιότητας οι πολύ όμοιες ταινίες θα έχουν μεγαλύτερο βάρος\n",
        "    q.close()\n",
        "\n",
        "    q = prolog.query(\"find_similar_movies_2('\" + movie + \"',M)\")\n",
        "    c = 0\n",
        "    for soln in q:\n",
        "        c += 1\n",
        "        if c>5: break\n",
        "        movie_score [soln[\"M\"]] += similarity_weights['similarity_2'] * rating_weight[rating] #το weight θα το ορίσετε ανα επίπεδο ομοιότητας οι πολύ όμοιες ταινίες θα έχουν μεγαλύτερο βάρος\n",
        "    q.close()\n",
        "\n",
        "    q = prolog.query(\"find_similar_movies_1('\" + movie + \"',M)\")\n",
        "    c = 0\n",
        "    for soln in q:\n",
        "        c += 1\n",
        "        if c>5: break\n",
        "        movie_score [soln[\"M\"]] += similarity_weights['similarity_1'] * rating_weight[rating] #το weight θα το ορίσετε ανα επίπεδο ομοιότητας οι πολύ όμοιες ταινίες θα έχουν μεγαλύτερο βάρος\n",
        "    q.close()"
      ],
      "execution_count": 0,
      "outputs": []
    },
    {
      "cell_type": "code",
      "metadata": {
        "id": "ELel4BH6ED8n",
        "colab_type": "code",
        "colab": {
          "base_uri": "https://localhost:8080/",
          "height": 187
        },
        "outputId": "42ef0076-aae6-4447-a1c0-73899dccd240"
      },
      "source": [
        "recommender(movie_score)"
      ],
      "execution_count": 26,
      "outputs": [
        {
          "output_type": "execute_result",
          "data": {
            "text/plain": [
              "['Kiss of Death',\n",
              " 'My Soul to Take',\n",
              " '2 Guns',\n",
              " '88 Minutes',\n",
              " 'Righteous Kill',\n",
              " 'Kiss the Girls',\n",
              " '12 Rounds',\n",
              " '15 Minutes',\n",
              " '16 Blocks',\n",
              " 'Blood Work']"
            ]
          },
          "metadata": {
            "tags": []
          },
          "execution_count": 26
        }
      ]
    },
    {
      "cell_type": "markdown",
      "metadata": {
        "id": "6YDI4w0bLQJI",
        "colab_type": "text"
      },
      "source": [
        "Μελετώντας το αρχείο user2.csv, παρατηρούμε πως ο χρήστης 2 έχει αξιολογήσει με 5 κυρίως ταινίες που ανήκουν στις κατηγορίες thriller, mystery, drama. Και πάλι, βλέπουμε πως οι προτάσεις του συστήματος συστάσεων είναι ταινίες που ανήκουν σε αυτές τις κατηγορίες. "
      ]
    },
    {
      "cell_type": "markdown",
      "metadata": {
        "id": "bicTyIxGSLDU",
        "colab_type": "text"
      },
      "source": [
        "##My user"
      ]
    },
    {
      "cell_type": "markdown",
      "metadata": {
        "id": "LzhsNPmo2RCO",
        "colab_type": "text"
      },
      "source": [
        "---\n",
        "<center><h2>Κατασκευή των Δικών σας Users</h2></center>\n",
        "\n",
        "---"
      ]
    },
    {
      "cell_type": "code",
      "metadata": {
        "id": "HW4FfV_02RCR",
        "colab_type": "code",
        "colab": {}
      },
      "source": [
        "import csv\n",
        "import numpy as np\n",
        "\n",
        "def create_my_user(liked, notLiked, filename, num_of_liked =20, num_of_notliked = 20):\n",
        "    with open(filename, 'w', newline='') as file:\n",
        "        writer = csv.writer(file)\n",
        "        writer.writerow([\"movie_title\",\"rating\"])\n",
        "        liked = np.random.choice(liked, num_of_liked)\n",
        "        notliked = np.random.choice(notLiked, num_of_notliked)\n",
        "        for i in  liked:\n",
        "            grade = np.random.choice([5,4,3], p = [0.5, 0.4, 0.1])\n",
        "            writer.writerow([i, grade])\n",
        "        for i in  notliked:\n",
        "            grade = np.random.choice([1, 2, 3], p = [0.5, 0.4, 0.1])\n",
        "            writer.writerow([i, grade])"
      ],
      "execution_count": 0,
      "outputs": []
    },
    {
      "cell_type": "code",
      "metadata": {
        "id": "lBVQvHPq2RCV",
        "colab_type": "code",
        "colab": {}
      },
      "source": [
        "#Κατασκευάστε τα κατηγορήματα για τις ταινίες που σας αρέσουν και για αυτές που δεν σας αρέσουν\n",
        "#Αν μια ταινία ανήκει σε μια ευρίτερη κατηγορία κατεσκευάστε την πρώτα\n",
        "prolog.assertz(\"(romance(X) :- genre(X, 'Romance'); genre(X, 'Comedy'); plot(X, 'love'))\")\n",
        "prolog.assertz(\"(anime(X) :- genre(X, 'Family'); genre(X, 'Animation'))\")\n",
        "prolog.assertz(\"(thriller(X) :- genre(X, 'Horror'); genre(X, 'Thriller'); genre(X, 'Mystery'); plot(X, 'alien'))\")\n",
        "prolog.assertz(\"(action(X) :- genre(X, 'Action'); genre(X, 'Crime');  plot(X, 'kill'))\")\n",
        "prolog.assertz(\"(notLiked(X) :- thriller(X); action(X))\")\n",
        "prolog.assertz(\"(liked(X) :- (romance(X); anime(X)), not(notLiked(X)))\")"
      ],
      "execution_count": 0,
      "outputs": []
    },
    {
      "cell_type": "code",
      "metadata": {
        "id": "XYj25M_62RCf",
        "colab_type": "code",
        "colab": {}
      },
      "source": [
        "q = prolog.query(\"liked(M)\")\n",
        "ans = []\n",
        "for soln in q:\n",
        "    ans.append(soln[\"M\"])\n",
        "liked = list(set(ans))\n",
        "\n",
        "q = prolog.query(\"notLiked(M)\")\n",
        "ans = []\n",
        "for soln in q:\n",
        "    ans.append(soln[\"M\"])\n",
        "notliked = list(set(ans))\n",
        "\n",
        "create_my_user(liked, notliked, filename= \"myuser.csv\", num_of_liked = 20, num_of_notliked = 20)"
      ],
      "execution_count": 0,
      "outputs": []
    },
    {
      "cell_type": "code",
      "metadata": {
        "id": "JNjarwV4SNmR",
        "colab_type": "code",
        "colab": {}
      },
      "source": [
        "user = \"myuser.csv\"\n",
        "ratings3 = pd.read_csv(user) "
      ],
      "execution_count": 0,
      "outputs": []
    },
    {
      "cell_type": "code",
      "metadata": {
        "id": "wcu6Fa0qSTtA",
        "colab_type": "code",
        "colab": {}
      },
      "source": [
        "similarity_weights = {\"similarity_5\": 15, \"similarity_4\":7, \"similarity_3\":3, \"similarity_2\":2, \"similarity_1\":1}\n",
        "rating_weight = {5: 10, 4: 5, 3: 0, 2: -5, 1: -10}\n",
        "\n",
        "r = 0\n",
        "movie_score = {m: 0 for m in  movie_score}\n",
        "for row in ratings3.itertuples(index=True, name='Pandas'):\n",
        "    movie = clean_text(getattr(row, 'movie_title'))\n",
        "    rating = getattr(row, 'rating')    \n",
        "    \n",
        "    q = prolog.query(\"find_similar_movies_5('\" + movie + \"',M)\")\n",
        "    for soln in q:\n",
        "        movie_score [soln[\"M\"]] += similarity_weights['similarity_5'] * rating_weight[rating] #το weight θα το ορίσετε ανα επίπεδο ομοιότητας οι πολύ όμοιες ταινίες θα έχουν μεγαλύτερο βάρος\n",
        "    q.close()\n",
        "    \n",
        "    q = prolog.query(\"find_similar_movies_4('\" + movie + \"',M)\")\n",
        "    for soln in q:\n",
        "        movie_score [soln[\"M\"]] += similarity_weights['similarity_4'] * rating_weight[rating] #το weight θα το ορίσετε ανα επίπεδο ομοιότητας οι πολύ όμοιες ταινίες θα έχουν μεγαλύτερο βάρος\n",
        "    q.close()\n",
        "\n",
        "    q = prolog.query(\"find_similar_movies_3('\" + movie + \"',M)\")\n",
        "    c = 0\n",
        "    for soln in q:\n",
        "        c += 1\n",
        "        if c>10: break\n",
        "        movie_score [soln[\"M\"]] += similarity_weights['similarity_3'] * rating_weight[rating] #το weight θα το ορίσετε ανα επίπεδο ομοιότητας οι πολύ όμοιες ταινίες θα έχουν μεγαλύτερο βάρος\n",
        "    q.close()\n",
        "\n",
        "    q = prolog.query(\"find_similar_movies_2('\" + movie + \"',M)\")\n",
        "    c = 0\n",
        "    for soln in q:\n",
        "        c += 1\n",
        "        if c>5: break\n",
        "        movie_score [soln[\"M\"]] += similarity_weights['similarity_2'] * rating_weight[rating] #το weight θα το ορίσετε ανα επίπεδο ομοιότητας οι πολύ όμοιες ταινίες θα έχουν μεγαλύτερο βάρος\n",
        "    q.close()\n",
        "\n",
        "    q = prolog.query(\"find_similar_movies_1('\" + movie + \"',M)\")\n",
        "    c = 0\n",
        "    for soln in q:\n",
        "        c += 1\n",
        "        if c>5: break\n",
        "        movie_score [soln[\"M\"]] += similarity_weights['similarity_1'] * rating_weight[rating] #το weight θα το ορίσετε ανα επίπεδο ομοιότητας οι πολύ όμοιες ταινίες θα έχουν μεγαλύτερο βάρος\n",
        "    q.close()"
      ],
      "execution_count": 0,
      "outputs": []
    },
    {
      "cell_type": "code",
      "metadata": {
        "id": "_j8izD1VSYve",
        "colab_type": "code",
        "colab": {
          "base_uri": "https://localhost:8080/",
          "height": 187
        },
        "outputId": "e3988d38-7bce-4d7c-8bc7-f81947e9dab0"
      },
      "source": [
        "recommender(movie_score)"
      ],
      "execution_count": 32,
      "outputs": [
        {
          "output_type": "execute_result",
          "data": {
            "text/plain": [
              "['Juno',\n",
              " '13 Going on 30',\n",
              " 'Bride Wars',\n",
              " 'Girl, Interrupted',\n",
              " 'See Spot Run',\n",
              " 'Sliding Doors',\n",
              " 'Bernie',\n",
              " '17 Again',\n",
              " 'The Hours',\n",
              " 'Young Adult']"
            ]
          },
          "metadata": {
            "tags": []
          },
          "execution_count": 32
        }
      ]
    },
    {
      "cell_type": "markdown",
      "metadata": {
        "id": "4D_3ff4d84AC",
        "colab_type": "text"
      },
      "source": [
        "Παρατηρούμε πως οι παραπάνω ταινίες είναι Κωμωδίες ή Κινούμενα Σχέδια ή Ρομαντικές Κομεντί, και άρα σύμφωνες με τις κατηγορίες που ορίσαμε ως liked. Επίσης, δε συναντάμε ταινίες Θρίλλερ ή Τρόμου, που ορίσαμε ως notLiked, ούτε ταινίες με \"kill\" στην πλοκή."
      ]
    }
  ]
}